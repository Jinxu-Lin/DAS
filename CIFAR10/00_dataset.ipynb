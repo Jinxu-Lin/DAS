{
 "cells": [
  {
   "cell_type": "code",
   "execution_count": null,
   "metadata": {},
   "outputs": [
    {
     "name": "stderr",
     "output_type": "stream",
     "text": [
      "/home/jinxulin/anaconda3/envs/miss/lib/python3.8/site-packages/tqdm/auto.py:21: TqdmWarning: IProgress not found. Please update jupyter and ipywidgets. See https://ipywidgets.readthedocs.io/en/stable/user_install.html\n",
      "  from .autonotebook import tqdm as notebook_tqdm\n"
     ]
    }
   ],
   "source": [
    "import os\n",
    "import pickle\n",
    "import pandas as pd\n",
    "\n",
    "from datasets import load_dataset, load_from_disk\n",
    "from sklearn.model_selection import train_test_split"
   ]
  },
  {
   "cell_type": "code",
   "execution_count": null,
   "metadata": {},
   "outputs": [],
   "source": [
    "# Download dataset or load from disk\n",
    "\n",
    "dataset_path = \"../../Resources/Datasets/CIFAR10\"\n",
    "\n",
    "# check if the dataset is already downloaded\n",
    "if not os.path.exists(dataset_path):\n",
    "    dataset = load_dataset(\n",
    "                'cifar10'\n",
    "            )\n",
    "    os.makedirs(dataset_path, exist_ok=True)\n",
    "    dataset.save_to_disk(dataset_path)\n",
    "else:\n",
    "    dataset = load_from_disk(dataset_path)\n",
    "    \n",
    "train_dataset = dataset['train']\n",
    "test_dataset = dataset['test']\n"
   ]
  },
  {
   "cell_type": "code",
   "execution_count": null,
   "metadata": {},
   "outputs": [],
   "source": [
    "df_train = pd.DataFrame()\n",
    "df_train['label'] = train_dataset['label']\n",
    "df_train.head()\n",
    "\n",
    "df_test = pd.DataFrame()\n",
    "df_test['label'] = test_dataset['label']\n",
    "df_test.head()"
   ]
  },
  {
   "cell_type": "code",
   "execution_count": null,
   "metadata": {},
   "outputs": [],
   "source": [
    "# Select `training_size` samples to form a training set\n",
    "\n",
    "training_size = 50000\n",
    "\n",
    "if training_size<len(df_train):\n",
    "    df_train_, _ = train_test_split(df_train, train_size=training_size, random_state=42, stratify=df_train['label'])\n",
    "else:\n",
    "    df_train_ = df_train.copy()\n",
    "print(len(df_train_))\n",
    "\n",
    "# Save the indices of the training set\n",
    "\n",
    "filename = os.path.join('./data/indices/idx-train.pkl')\n",
    "os.makedirs(os.path.dirname(filename), exist_ok=True)\n",
    "\n",
    "with open(filename, 'wb') as handle:\n",
    "    pickle.dump(df_train_.index.to_list(), handle)"
   ]
  },
  {
   "cell_type": "code",
   "execution_count": null,
   "metadata": {},
   "outputs": [],
   "source": [
    "# Select 1000 samples from test set to form a validation set\n",
    "\n",
    "df_val, _ = train_test_split(df_test, train_size=1000, random_state=42, stratify=df_test['label'])\n",
    "df_val['label'].value_counts()\n",
    "\n",
    "# Save the indices of the validation set\n",
    "\n",
    "filename = os.path.join('./data/indices/idx-val.pkl')\n",
    "os.makedirs(os.path.dirname(filename), exist_ok=True)\n",
    "\n",
    "with open(filename, 'wb') as handle:\n",
    "    pickle.dump(df_test.index.to_list(), handle)"
   ]
  },
  {
   "cell_type": "code",
   "execution_count": null,
   "metadata": {},
   "outputs": [],
   "source": [
    "# Generate the indices of the sub-training sets for retraining\n",
    "\n",
    "sub_training_size = 0.5\n",
    "\n",
    "count = 0\n",
    "\n",
    "for index in range(256):\n",
    "    tmp, _ = train_test_split(df_train_, train_size=sub_training_size, random_state=42+count+index, stratify=df_train_['label'])\n",
    "    \n",
    "    # Save the indices of the sub-training set\n",
    "    filename = os.path.join('./data/indices/lds-val/sub-idx-{}.pkl'.format(index))\n",
    "    os.makedirs(os.path.dirname(filename), exist_ok=True)\n",
    "    with open(filename, 'wb') as handle:\n",
    "        pickle.dump(tmp.index.to_list(), handle)\n",
    "        \n",
    "    count = count+1\n",
    "    \n",
    "print(count)\n",
    "\n",
    "for index in range(256):\n",
    "    tmp, _ = train_test_split(df_train_, train_size=sub_training_size, random_state=42+count+index, stratify=df_train_['label'])\n",
    "    \n",
    "    # Save the indices of the sub-training set\n",
    "    filename = os.path.join('./data/indices/lds-test/sub-idx-{}.pkl'.format(index))\n",
    "    os.makedirs(os.path.dirname(filename), exist_ok=True)\n",
    "    with open(filename, 'wb') as handle:\n",
    "        pickle.dump(tmp.index.to_list(), handle)\n",
    "        \n",
    "    count = count+1 \n",
    "    \n",
    "print(count)\n",
    "\n",
    "for k in range(1024):\n",
    "    tmp, _ = train_test_split(df_train_, train_size=sub_training_size, random_state=42+count+index, stratify=df_train_['label'])\n",
    "\n",
    "    # Save the indices of the sub-training set\n",
    "    filename = os.path.join('./data/indices/retrain/sub-idx-{}.pkl'.format(index))\n",
    "    os.makedirs(os.path.dirname(filename), exist_ok=True)\n",
    "    with open(filename, 'wb') as handle: \n",
    "        pickle.dump(tmp.index.to_list(), handle)\n",
    "        \n",
    "    count = count+1   \n",
    "    \n",
    "print(count)"
   ]
  },
  {
   "cell_type": "code",
   "execution_count": null,
   "metadata": {},
   "outputs": [],
   "source": [
    "# Validate the indices\n",
    "\n",
    "with open('./data/indices/idx-train.pkl', 'rb')  as handle:\n",
    "    idx_train = pickle.load(handle)\n",
    "print(len(idx_train))   \n",
    "\n",
    "with open('./data/indices/idx-val.pkl', 'rb')  as handle:\n",
    "    idx_val = pickle.load(handle)\n",
    "print(len(idx_val))\n",
    "\n",
    "print(idx_train[0:5])  \n",
    "print(idx_val[0:5])"
   ]
  },
  {
   "cell_type": "code",
   "execution_count": null,
   "metadata": {},
   "outputs": [],
   "source": [
    "train_dataset = dataset['train'].select(idx_train)\n",
    "print(train_dataset)\n",
    "\n",
    "train_dataset[0][\"img\"]"
   ]
  },
  {
   "cell_type": "code",
   "execution_count": null,
   "metadata": {},
   "outputs": [],
   "source": [
    "val_dataset =  dataset['test'].select(idx_val)\n",
    "print(val_dataset)\n",
    "\n",
    "val_dataset[0][\"img\"]"
   ]
  },
  {
   "cell_type": "code",
   "execution_count": null,
   "metadata": {},
   "outputs": [],
   "source": [
    "# Validate the subset indices\n",
    "with open(\"./data/indices/lds-val/sub-idx-0.pkl\", 'rb') as handle:\n",
    "    sub_idx = pickle.load(handle)\n",
    "    \n",
    "print(len(sub_idx))\n",
    "\n",
    "print(sub_idx[0:5])"
   ]
  },
  {
   "cell_type": "code",
   "execution_count": null,
   "metadata": {},
   "outputs": [],
   "source": [
    "with open(\"./data/indices/lds-val/sub-idx-8.pkl\", 'rb') as handle:\n",
    "    sub_idx = pickle.load(handle)\n",
    "\n",
    "print(sub_idx[0:5])"
   ]
  }
 ],
 "metadata": {
  "kernelspec": {
   "display_name": "miss",
   "language": "python",
   "name": "python3"
  },
  "language_info": {
   "codemirror_mode": {
    "name": "ipython",
    "version": 3
   },
   "file_extension": ".py",
   "mimetype": "text/x-python",
   "name": "python",
   "nbconvert_exporter": "python",
   "pygments_lexer": "ipython3",
   "version": "3.8.20"
  }
 },
 "nbformat": 4,
 "nbformat_minor": 2
}
