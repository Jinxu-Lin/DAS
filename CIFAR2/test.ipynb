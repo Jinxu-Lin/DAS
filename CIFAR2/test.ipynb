{
 "cells": [
  {
   "cell_type": "code",
   "execution_count": null,
   "metadata": {},
   "outputs": [],
   "source": [
    "\n",
    "from diffusers import DDPMScheduler, UNet2DModel, DDPMPipeline\n",
    "def get_model():\n",
    "\n",
    "    model = UNet2DModel(\n",
    "        sample_size=32,\n",
    "        freq_shift=1,\n",
    "        flip_sin_to_cos=False,\n",
    "        down_block_types= (\n",
    "            \"DownBlock2D\",\n",
    "            \"AttnDownBlock2D\",\n",
    "            \"DownBlock2D\",\n",
    "            \"DownBlock2D\"\n",
    "        ),\n",
    "        up_block_types= (\n",
    "            \"UpBlock2D\",\n",
    "            \"UpBlock2D\",\n",
    "            \"AttnUpBlock2D\",\n",
    "            \"UpBlock2D\"\n",
    "        ),\n",
    "        block_out_channels=(128, 256, 256, 256),\n",
    "        downsample_padding=0,\n",
    "        attention_head_dim=None,\n",
    "        norm_eps=1e-6,\n",
    "        resnet_time_scale_shift='scale_shift',\n",
    "    )\n",
    "    return model"
   ]
  }
 ],
 "metadata": {
  "language_info": {
   "name": "python"
  }
 },
 "nbformat": 4,
 "nbformat_minor": 2
}
