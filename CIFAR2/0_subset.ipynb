{
 "cells": [
  {
   "cell_type": "code",
   "execution_count": 1,
   "metadata": {},
   "outputs": [
    {
     "name": "stderr",
     "output_type": "stream",
     "text": [
      "/home/jinxulin/anaconda3/envs/miss/lib/python3.8/site-packages/tqdm/auto.py:21: TqdmWarning: IProgress not found. Please update jupyter and ipywidgets. See https://ipywidgets.readthedocs.io/en/stable/user_install.html\n",
      "  from .autonotebook import tqdm as notebook_tqdm\n"
     ]
    }
   ],
   "source": [
    "import os\n",
    "import pickle\n",
    "import pandas as pd\n",
    "import random\n",
    "from sklearn.model_selection import train_test_split\n",
    "from datasets import load_from_disk, load_dataset"
   ]
  },
  {
   "cell_type": "code",
   "execution_count": 2,
   "metadata": {},
   "outputs": [],
   "source": [
    "# set seed\n",
    "random.seed(42)"
   ]
  },
  {
   "cell_type": "code",
   "execution_count": 4,
   "metadata": {},
   "outputs": [],
   "source": [
    "# download dataset or load from disk\n",
    "dataset_path = \"../Dataset/CIFAR10\"\n",
    "\n",
    "# check if the dataset is already downloaded\n",
    "if not os.path.exists(dataset_path):\n",
    "    dataset = load_dataset(\n",
    "                'cifar10'\n",
    "            )\n",
    "    os.makedirs(dataset_path, exist_ok=True)\n",
    "    dataset.save_to_disk(dataset_path)\n",
    "else:\n",
    "    dataset = load_from_disk(dataset_path)\n",
    "    \n",
    "train_dataset = dataset['train']\n",
    "test_dataset = dataset['test']\n"
   ]
  },
  {
   "cell_type": "code",
   "execution_count": 17,
   "metadata": {},
   "outputs": [
    {
     "name": "stdout",
     "output_type": "stream",
     "text": [
      "       label\n",
      "17274      3\n",
      "17585      3\n",
      "25421      3\n",
      "7451       5\n",
      "4801       3\n",
      "(5000, 1)\n"
     ]
    }
   ],
   "source": [
    "# train set of CIFAR2\n",
    "train_cifar2 = pd.DataFrame()\n",
    "train_cifar2['label'] = train_dataset['label']\n",
    "train_cifar2 = train_cifar2[(train_cifar2['label']==3) | (train_cifar2['label']==5)]\n",
    "train_cifar2, _ = train_test_split(train_cifar2, train_size=0.5, random_state=42, stratify=train_cifar2['label'])\n",
    "print(train_cifar2.head())\n",
    "print(train_cifar2.shape)"
   ]
  },
  {
   "cell_type": "code",
   "execution_count": 8,
   "metadata": {},
   "outputs": [
    {
     "name": "stdout",
     "output_type": "stream",
     "text": [
      "    label\n",
      "0       3\n",
      "8       3\n",
      "12      5\n",
      "16      5\n",
      "24      5\n",
      "(1000, 1)\n"
     ]
    }
   ],
   "source": [
    "# test set of CIFAR2\n",
    "test_cifar2 = pd.DataFrame()\n",
    "test_cifar2['label'] = test_dataset['label']\n",
    "test_cifar2 = test_cifar2[(test_cifar2['label']==3) | (test_cifar2['label']==5)]\n",
    "print(test_cifar2.head())\n",
    "test_cifar2, _ = train_test_split(test_cifar2, train_size=0.5, random_state=42, stratify=test_cifar2['label'])\n",
    "print(test_cifar2.shape)"
   ]
  },
  {
   "cell_type": "code",
   "execution_count": 9,
   "metadata": {},
   "outputs": [],
   "source": [
    "# save indices\n",
    "cifar2_indices_path = \"./data/\"\n",
    "os.makedirs(cifar2_indices_path, exist_ok=True)\n",
    "\n",
    "# train set indices\n",
    "train_index_cifar2 = os.path.join(cifar2_indices_path, \"idx-train.pkl\")\n",
    "with open(train_index_cifar2, 'wb') as handle:\n",
    "    pickle.dump(train_cifar2.index.to_list(), handle)\n",
    "\n",
    "# test set indices\n",
    "test_index_cifar2 = os.path.join(cifar2_indices_path, \"idx-test.pkl\")\n",
    "with open(test_index_cifar2, 'wb') as handle:\n",
    "    pickle.dump(test_cifar2.index.to_list(), handle)"
   ]
  },
  {
   "cell_type": "code",
   "execution_count": 10,
   "metadata": {},
   "outputs": [],
   "source": [
    "# generate subsets for lds validation\n",
    "for k in range(256):\n",
    "    tmp, _ = train_test_split(train_cifar2, train_size=0.5, random_state=42+k, stratify=train_cifar2['label'])\n",
    "    filename = os.path.join('./data/lds-val/sub-idx-{}.pkl'.format(k))\n",
    "    os.makedirs(os.path.dirname(filename), exist_ok=True)\n",
    "    with open(filename, 'wb') as handle:\n",
    "        pickle.dump(tmp.index.to_list(), handle)"
   ]
  },
  {
   "cell_type": "code",
   "execution_count": 11,
   "metadata": {},
   "outputs": [
    {
     "name": "stdout",
     "output_type": "stream",
     "text": [
      "[10, 13, 15, 16, 17, 22, 28, 42, 46, 54]\n",
      "[7336, 5290, 1268, 6683, 7493, 7668, 7118, 8201, 3390, 7174]\n",
      "[17274, 17585, 25421, 7451, 4801, 39117, 11089, 38052, 39975, 5386]\n",
      "[24759, 36596, 21724, 9151, 16896, 27615, 25774, 36980, 12662, 24064]\n"
     ]
    }
   ],
   "source": [
    "# validate indices\n",
    "with open(\"./data/idx-train.pkl\", 'rb') as handle:\n",
    "    train_indices = pickle.load(handle)\n",
    "print(train_indices[0:10])\n",
    "\n",
    "with open(\"./data/idx-test.pkl\", 'rb') as handle:\n",
    "    test_indices = pickle.load(handle)\n",
    "print(test_indices[0:10])\n",
    "\n",
    "with open('./data/lds-val/sub-idx-0.pkl', 'rb') as handle:\n",
    "    sub_0 = pickle.load(handle)\n",
    "print(sub_0[0:10])\n",
    "\n",
    "with open('./data/lds-val/sub-idx-1.pkl', 'rb') as handle:\n",
    "    sub_1 = pickle.load(handle)\n",
    "print(sub_1[0:10])"
   ]
  }
 ],
 "metadata": {
  "kernelspec": {
   "display_name": "miss",
   "language": "python",
   "name": "python3"
  },
  "language_info": {
   "codemirror_mode": {
    "name": "ipython",
    "version": 3
   },
   "file_extension": ".py",
   "mimetype": "text/x-python",
   "name": "python",
   "nbconvert_exporter": "python",
   "pygments_lexer": "ipython3",
   "version": "3.8.20"
  }
 },
 "nbformat": 4,
 "nbformat_minor": 2
}
