{
 "cells": [
  {
   "cell_type": "code",
   "execution_count": null,
   "id": "0f513615-3e75-498d-90ca-41ae0d4a5710",
   "metadata": {},
   "outputs": [],
   "source": [
    "import os\n",
    "import pickle\n",
    "import pandas as pd\n",
    "\n",
    "from datasets import load_dataset, load_from_disk\n",
    "from sklearn.model_selection import train_test_split"
   ]
  },
  {
   "cell_type": "code",
   "execution_count": null,
   "id": "28311549-8eb0-40f9-9b9f-fe0119761fb6",
   "metadata": {},
   "outputs": [],
   "source": [
    "# Download dataset or load from disk\n",
    "# Dataset path: ../../Resources/Datasets/CIFAR10\n",
    "\n",
    "dataset_path = '../../Resources/Datasets/CIFAR10'\n",
    "\n",
    "# check if the dataset is already downloaded\n",
    "if not os.path.exists(dataset_path):\n",
    "    dataset = load_dataset(\n",
    "                'cifar10'\n",
    "            )\n",
    "    os.makedirs(dataset_path, exist_ok=True)\n",
    "    dataset.save_to_disk(dataset_path)\n",
    "else:\n",
    "    dataset = load_from_disk(dataset_path)\n",
    "    \n",
    "train_dataset = dataset['train']\n",
    "test_dataset = dataset['test']"
   ]
  },
  {
   "cell_type": "code",
   "execution_count": null,
   "id": "112772bc-5a08-4d83-aebb-1a73909b758d",
   "metadata": {},
   "outputs": [
    {
     "data": {
      "text/html": [
       "<div>\n",
       "<style scoped>\n",
       "    .dataframe tbody tr th:only-of-type {\n",
       "        vertical-align: middle;\n",
       "    }\n",
       "\n",
       "    .dataframe tbody tr th {\n",
       "        vertical-align: top;\n",
       "    }\n",
       "\n",
       "    .dataframe thead th {\n",
       "        text-align: right;\n",
       "    }\n",
       "</style>\n",
       "<table border=\"1\" class=\"dataframe\">\n",
       "  <thead>\n",
       "    <tr style=\"text-align: right;\">\n",
       "      <th></th>\n",
       "      <th>label</th>\n",
       "    </tr>\n",
       "  </thead>\n",
       "  <tbody>\n",
       "    <tr>\n",
       "      <th>0</th>\n",
       "      <td>0</td>\n",
       "    </tr>\n",
       "    <tr>\n",
       "      <th>1</th>\n",
       "      <td>6</td>\n",
       "    </tr>\n",
       "    <tr>\n",
       "      <th>2</th>\n",
       "      <td>0</td>\n",
       "    </tr>\n",
       "    <tr>\n",
       "      <th>3</th>\n",
       "      <td>2</td>\n",
       "    </tr>\n",
       "    <tr>\n",
       "      <th>4</th>\n",
       "      <td>7</td>\n",
       "    </tr>\n",
       "  </tbody>\n",
       "</table>\n",
       "</div>"
      ],
      "text/plain": [
       "   label\n",
       "0      0\n",
       "1      6\n",
       "2      0\n",
       "3      2\n",
       "4      7"
      ]
     },
     "execution_count": 6,
     "metadata": {},
     "output_type": "execute_result"
    }
   ],
   "source": [
    "df_train = pd.DataFrame()\n",
    "df_train['label'] = train_dataset['label']\n",
    "df_train.head()\n",
    "\n",
    "df_test = pd.DataFrame()\n",
    "df_test['label'] = test_dataset['label']\n",
    "df_test.head()"
   ]
  },
  {
   "cell_type": "code",
   "execution_count": null,
   "id": "a4afb6bb-327e-40fa-8455-82346198a767",
   "metadata": {},
   "outputs": [
    {
     "data": {
      "text/plain": [
       "label\n",
       "1    1000\n",
       "7    1000\n",
       "Name: count, dtype: int64"
      ]
     },
     "execution_count": 8,
     "metadata": {},
     "output_type": "execute_result"
    }
   ],
   "source": [
    "# Select the classes [1: automobile, 7: horse] from CIFAR10\n",
    "\n",
    "df_train = df_train[(df_train['label']==1) | (df_train['label']==7)]\n",
    "df_train['label'].value_counts()\n",
    "\n",
    "df_test = df_test[(df_test['label']==1) | (df_test['label']==7)]\n",
    "df_test['label'].value_counts()"
   ]
  },
  {
   "cell_type": "code",
   "execution_count": null,
   "id": "aa0c4fec",
   "metadata": {},
   "outputs": [],
   "source": [
    "# Select `training_size` samples to form a training set\n",
    "\n",
    "training_size = 5000\n",
    "\n",
    "if training_size<len(df_train):\n",
    "    df_train_, _ = train_test_split(df_train, train_size=training_size, random_state=42, stratify=df_train['label'])\n",
    "else:\n",
    "    df_train_ = df_train.copy()\n",
    "print(len(df_train_))\n",
    "\n",
    "# Save the indices of the training set\n",
    "\n",
    "filename = os.path.join('./data/indices/idx-train.pkl')\n",
    "os.makedirs(os.path.dirname(filename), exist_ok=True)\n",
    "\n",
    "with open(filename, 'wb') as handle:\n",
    "    pickle.dump(df_train_.index.to_list(), handle)"
   ]
  },
  {
   "cell_type": "code",
   "execution_count": null,
   "id": "3ec96f0e-7654-4c63-8306-186206801cd9",
   "metadata": {},
   "outputs": [
    {
     "data": {
      "text/plain": [
       "label\n",
       "7    500\n",
       "1    500\n",
       "Name: count, dtype: int64"
      ]
     },
     "execution_count": 9,
     "metadata": {},
     "output_type": "execute_result"
    }
   ],
   "source": [
    "# Select 1000 samples from test set to form a validation set\n",
    "\n",
    "df_val, _ = train_test_split(df_test, train_size=1000, random_state=42, stratify=df_test['label'])\n",
    "df_val['label'].value_counts()\n",
    "\n",
    "# Save the indices of the validation set\n",
    "\n",
    "filename = os.path.join('./data/indices/idx-val.pkl')\n",
    "os.makedirs(os.path.dirname(filename), exist_ok=True)\n",
    "\n",
    "with open(filename, 'wb') as handle:\n",
    "    pickle.dump(df_test.index.to_list(), handle)"
   ]
  },
  {
   "cell_type": "code",
   "execution_count": null,
   "id": "3d2af2a7-1ef9-41a6-987d-3fdb7072b984",
   "metadata": {
    "scrolled": true
   },
   "outputs": [
    {
     "name": "stdout",
     "output_type": "stream",
     "text": [
      "5000\n",
      "256\n",
      "512\n",
      "1536\n"
     ]
    }
   ],
   "source": [
    "# Generate the indices of the sub-training sets for retraining\n",
    "\n",
    "sub_training_size = 0.5\n",
    "\n",
    "count = 0\n",
    "\n",
    "for index in range(256):\n",
    "    tmp, _ = train_test_split(df_train_, train_size=sub_training_size, random_state=42+count+index, stratify=df_train_['label'])\n",
    "    \n",
    "    # Save the indices of the sub-training set\n",
    "    filename = os.path.join('./data/indices/lds-val/sub-idx-{}.pkl'.format(index))\n",
    "    os.makedirs(os.path.dirname(filename), exist_ok=True)\n",
    "    with open(filename, 'wb') as handle:\n",
    "        pickle.dump(tmp.index.to_list(), handle)\n",
    "        \n",
    "    count = count+1\n",
    "    \n",
    "print(count)\n",
    "\n",
    "for index in range(256):\n",
    "    tmp, _ = train_test_split(df_train_, train_size=sub_training_size, random_state=42+count+index, stratify=df_train_['label'])\n",
    "    \n",
    "    # Save the indices of the sub-training set\n",
    "    filename = os.path.join('./data/indices/lds-test/sub-idx-{}.pkl'.format(index))\n",
    "    os.makedirs(os.path.dirname(filename), exist_ok=True)\n",
    "    with open(filename, 'wb') as handle:\n",
    "        pickle.dump(tmp.index.to_list(), handle)\n",
    "        \n",
    "    count = count+1 \n",
    "    \n",
    "print(count)\n",
    "\n",
    "for k in range(1024):\n",
    "    tmp, _ = train_test_split(df_train_, train_size=sub_training_size, random_state=42+count+index, stratify=df_train_['label'])\n",
    "\n",
    "    # Save the indices of the sub-training set\n",
    "    filename = os.path.join('./data/indices/retrain/sub-idx-{}.pkl'.format(index))\n",
    "    os.makedirs(os.path.dirname(filename), exist_ok=True)\n",
    "    with open(filename, 'wb') as handle: \n",
    "        pickle.dump(tmp.index.to_list(), handle)\n",
    "        \n",
    "    count = count+1   \n",
    "    \n",
    "print(count)"
   ]
  },
  {
   "cell_type": "code",
   "execution_count": null,
   "id": "824b1dd7-131d-44c1-8e84-47c1402e3b1d",
   "metadata": {},
   "outputs": [
    {
     "data": {
      "text/plain": [
       "5000"
      ]
     },
     "execution_count": 15,
     "metadata": {},
     "output_type": "execute_result"
    }
   ],
   "source": [
    "# Validate the indices\n",
    "\n",
    "with open('./data/indices/idx-train.pkl', 'rb')  as handle:\n",
    "    idx_train = pickle.load(handle)\n",
    "print(len(idx_train))   \n",
    "\n",
    "with open('./data/indices/idx-val.pkl', 'rb')  as handle:\n",
    "    idx_val = pickle.load(handle)\n",
    "print(len(idx_val))\n",
    "\n",
    "print(idx_train[0:5])  \n",
    "print(idx_val[0:5])"
   ]
  },
  {
   "cell_type": "code",
   "execution_count": null,
   "id": "c19ef489-d8c3-4750-867e-3e4c2c506925",
   "metadata": {},
   "outputs": [
    {
     "data": {
      "image/png": "[encoded data removed]",
      "text/plain": [
       "<PIL.PngImagePlugin.PngImageFile image mode=RGB size=32x32>"
      ]
     },
     "execution_count": 17,
     "metadata": {},
     "output_type": "execute_result"
    }
   ],
   "source": [
    "train_dataset = dataset['train'].select(idx_train)\n",
    "print(train_dataset)\n",
    "\n",
    "train_dataset[0][\"img\"]"
   ]
  },
  {
   "cell_type": "code",
   "execution_count": null,
   "id": "b4958a1a-66f2-4c27-a370-6a61038e7821",
   "metadata": {},
   "outputs": [
    {
     "data": {
      "image/png": "[encoded data removed]",
      "text/plain": [
       "<PIL.PngImagePlugin.PngImageFile image mode=RGB size=32x32>"
      ]
     },
     "execution_count": 19,
     "metadata": {},
     "output_type": "execute_result"
    }
   ],
   "source": [
    "val_dataset =  dataset['test'].select(idx_val)\n",
    "print(val_dataset)\n",
    "\n",
    "val_dataset[0][\"img\"]"
   ]
  },
  {
   "cell_type": "code",
   "execution_count": null,
   "id": "30ff1255-784e-4503-96eb-bc01e0826659",
   "metadata": {},
   "outputs": [
    {
     "name": "stdout",
     "output_type": "stream",
     "text": [
      "[10392, 44460, 16163, 49891, 13381]\n"
     ]
    }
   ],
   "source": [
    "# Validate the subset indices\n",
    "with open(\"./data/indices/lds-val/sub-idx-0.pkl\", 'rb') as handle:\n",
    "    sub_idx = pickle.load(handle)\n",
    "    \n",
    "print(len(sub_idx))\n",
    "\n",
    "print(sub_idx[0:5])"
   ]
  },
  {
   "cell_type": "code",
   "execution_count": null,
   "id": "df904154-6c44-4afe-be75-69d7a82825bd",
   "metadata": {},
   "outputs": [
    {
     "name": "stdout",
     "output_type": "stream",
     "text": [
      "[4871, 21837, 20107, 553, 20868]\n"
     ]
    }
   ],
   "source": [
    "with open(\"./data/indices/lds-val/sub-idx-8.pkl\", 'rb') as handle:\n",
    "    sub_idx = pickle.load(handle)\n",
    "\n",
    "print(sub_idx[0:5])"
   ]
  }
 ],
 "metadata": {
  "kernelspec": {
   "display_name": "das",
   "language": "python",
   "name": "python3"
  },
  "language_info": {
   "codemirror_mode": {
    "name": "ipython",
    "version": 3
   },
   "file_extension": ".py",
   "mimetype": "text/x-python",
   "name": "python",
   "nbconvert_exporter": "python",
   "pygments_lexer": "ipython3",
   "version": "3.8.19"
  }
 },
 "nbformat": 4,
 "nbformat_minor": 5
}
